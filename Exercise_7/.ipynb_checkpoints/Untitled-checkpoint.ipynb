{
 "cells": [
  {
   "cell_type": "markdown",
   "id": "a1a673aa-96be-4285-b5a3-ac5341af1b2b",
   "metadata": {},
   "source": [
    "### Exercise 07.1\n",
    "In the NSL simulator code we have provided, include tail corrections for potential energy, $U$, and pressure $P$."
   ]
  },
  {
   "cell_type": "markdown",
   "id": "97f66ea6-84af-4463-9522-c20ca45ed6bf",
   "metadata": {},
   "source": [
    "\n",
    "$$\n",
    "\\frac{V_{\\mathrm{LJ}}^{\\mathrm{tail}}}{N}\n",
    "=\n",
    "8 \\,\\pi\\,\\rho\\,\\varepsilon\n",
    "\\Biggl(\n",
    "\\frac{\\sigma^{12}}{9\\,r_c^{9}}\n",
    "-\n",
    "\\frac{\\sigma^{6}}{3\\,r_c^{3}}\n",
    "\\Biggr)\n",
    "$$\n",
    "\n",
    "\n",
    "$$\n",
    "\\frac{w_{\\mathrm{LJ}}^{\\mathrm{tail}}}{3\\,N\\,\\varepsilon}\n",
    "=\n",
    "32 \\,\\pi\\,\\rho\n",
    "\\Biggl(\n",
    "\\frac{\\sigma^{12}}{9\\,r_c^{9}}\n",
    "-\n",
    "\\frac{\\sigma^{6}}{6\\,r_c^{3}}\n",
    "\\Biggr)\n",
    "$$\n",
    "\n"
   ]
  },
  {
   "cell_type": "markdown",
   "id": "11fdf7f6-c1a0-4afb-af8e-7ac695ed121e",
   "metadata": {},
   "source": [
    "### Exercise 07.2\n",
    "\n",
    "Use the NSL simulator code to <span style=\"color:red\">print out **instantaneous** values of potential energy per particle, $U/N$, along **equilibrated** Monte Carlo $(N,V,T)$ and Molecular Dynamics $(N,V,E)$ simulations</span> of $M=5\\times 10^5$ MC steps or MD time steps (where, for MC, the Metropolis acceptance ratio should be fixed approximately to 50% by changing the value of $dt$ that, in the MC case, represent the amplitude of the step in each direction) in the following thermodynamic conditions:\n",
    "- liquid phase: $\\rho^\\star = 0.8$, $T^\\star = 1.1$ (cut-off radius: $r^\\star_c = 2.5$, for MD $dt^\\star=0.001$)\n",
    "\n",
    "Equilibration is needed both with MC and with MD. With MD, you will observe that starting from a perfect crystalline configuration the temperature, $T$, will not conserve its value. Explore and find the starting value of $T$ needed to stabilize, after a certain number of time steps (equilibration time), the average value of $T$ on the desired $T^\\star$.\n",
    "<span style=\"color:red\">Perform your MC and MD simulations by re-starting after such equilibration time.</span>"
   ]
  },
  {
   "cell_type": "code",
   "execution_count": null,
   "id": "3c060d8f-5537-48bc-8dd4-a95f61a68431",
   "metadata": {},
   "outputs": [],
   "source": []
  }
 ],
 "metadata": {
  "kernelspec": {
   "display_name": "Python 3 (ipykernel)",
   "language": "python",
   "name": "python3"
  },
  "language_info": {
   "codemirror_mode": {
    "name": "ipython",
    "version": 3
   },
   "file_extension": ".py",
   "mimetype": "text/x-python",
   "name": "python",
   "nbconvert_exporter": "python",
   "pygments_lexer": "ipython3",
   "version": "3.11.5"
  }
 },
 "nbformat": 4,
 "nbformat_minor": 5
}
